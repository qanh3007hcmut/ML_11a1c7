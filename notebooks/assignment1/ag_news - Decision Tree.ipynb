{
 "cells": [
  {
   "cell_type": "code",
   "execution_count": 1,
   "metadata": {},
   "outputs": [],
   "source": [
    "import pandas as pd\n",
    "import numpy as np\n",
    "import matplotlib.pyplot as plt\n",
    "import seaborn as sns\n",
    "from sklearn.feature_extraction.text import TfidfVectorizer\n",
    "from sklearn.model_selection import cross_val_score, StratifiedKFold, GridSearchCV\n",
    "from sklearn.tree import DecisionTreeClassifier\n",
    "from sklearn.metrics import accuracy_score, classification_report, confusion_matrix\n",
    "from sklearn.pipeline import Pipeline\n",
    "from datasets import load_dataset"
   ]
  },
  {
   "cell_type": "markdown",
   "metadata": {},
   "source": [
    "Loads the dataset and performs preprocessing, including mapping numeric labels to string categories and handling missing values.\n",
    "    \n",
    "Parameters:\n",
    "\n",
    "    dataset_name (str): The dataset used for News Classification.\n",
    "    \n",
    "Returns:\n",
    "\n",
    "    train_df (DataFrame): Preprocessed training data.\n",
    "\n",
    "    test_df (DataFrame): Preprocessed testing data."
   ]
  },
  {
   "cell_type": "code",
   "execution_count": 2,
   "metadata": {},
   "outputs": [],
   "source": [
    "CATEGORY_MAPPING = {0: 'World', 1: 'Sports', 2: 'Business', 3: 'Sci/Tech'}"
   ]
  },
  {
   "cell_type": "code",
   "execution_count": 3,
   "metadata": {},
   "outputs": [],
   "source": [
    "def load_and_preprocess_data():\n",
    "    dataset_name=\"fancyzhx/ag_news\"\n",
    "    dataset = load_dataset(dataset_name)\n",
    "    \n",
    "    train_data = dataset[\"train\"]\n",
    "    test_data = dataset[\"test\"]\n",
    "    \n",
    "    train_df = train_data.to_pandas()\n",
    "    test_df = test_data.to_pandas()\n",
    "        \n",
    "    train_df['Category'] = train_df['label'].map(CATEGORY_MAPPING)\n",
    "    test_df['Category'] = test_df['label'].map(CATEGORY_MAPPING)\n",
    "        \n",
    "    return train_df, test_df"
   ]
  },
  {
   "cell_type": "markdown",
   "metadata": {},
   "source": [
    "Builds a text classification pipeline with TF-IDF vectorizer and Decision Tree classifier.\n",
    "    \n",
    "Parameters:\n",
    "\n",
    "    max_depth (int): Maximum depth of the decision tree.\n",
    "\n",
    "    min_samples_split (int): Minimum number of samples required to split an internal node.\n",
    "\n",
    "    ccp_alpha (float): Complexity parameter used for Minimal Cost-Complexity Pruning.\n",
    "    \n",
    "Returns:\n",
    "\n",
    "    pipeline (Pipeline): A scikit-learn pipeline."
   ]
  },
  {
   "cell_type": "code",
   "execution_count": 4,
   "metadata": {},
   "outputs": [],
   "source": [
    "def build_pipeline(max_depth=10, min_samples_split=5, ccp_alpha=0.0):\n",
    "    pipeline = Pipeline([\n",
    "        (\"tfidf\", TfidfVectorizer(lowercase=True, stop_words='english', max_features=1000)),\n",
    "        (\"clf\", DecisionTreeClassifier(max_depth=max_depth,\n",
    "                                        min_samples_split=min_samples_split,\n",
    "                                        ccp_alpha=ccp_alpha,\n",
    "                                        random_state=42))\n",
    "    ])\n",
    "    return pipeline"
   ]
  },
  {
   "cell_type": "markdown",
   "metadata": {},
   "source": [
    "Performs hyperparameter tuning using GridSearchCV.\n",
    "    \n",
    "Parameters:\n",
    "    \n",
    "    pipeline (Pipeline): The machine learning pipeline.\n",
    "    \n",
    "    X_train (list): Training text data.\n",
    "    \n",
    "    y_train (list): Training labels.\n",
    "\n",
    "Returns:\n",
    "    \n",
    "    best_pipeline (Pipeline): Pipeline with the best found parameters."
   ]
  },
  {
   "cell_type": "code",
   "execution_count": 5,
   "metadata": {},
   "outputs": [],
   "source": [
    "def tune_hyperparameters(pipeline, X_train, y_train):\n",
    "    param_grid = {\n",
    "        \"clf__max_depth\": [10, 20, None],\n",
    "        \"clf__min_samples_split\": [2, 5, 10],\n",
    "        \"clf__ccp_alpha\": [0.0, 0.001, 0.01]\n",
    "    }\n",
    "    skf = StratifiedKFold(n_splits=5, shuffle=True, random_state=42)\n",
    "    grid_search = GridSearchCV(pipeline, param_grid, cv=skf, scoring='accuracy')\n",
    "    grid_search.fit(X_train, y_train)\n",
    "    print(\"Best hyperparameters found:\", grid_search.best_params_)\n",
    "    return grid_search.best_estimator_"
   ]
  },
  {
   "cell_type": "markdown",
   "metadata": {},
   "source": [
    "Plots the confusion matrix using Seaborn heatmap.\n",
    "\n",
    "Parameters:\n",
    "\n",
    "    y_true (list): True labels.\n",
    "\n",
    "    y_pred (list): Predicted labels.\n",
    "\n",
    "    labels (list): List of label names."
   ]
  },
  {
   "cell_type": "code",
   "execution_count": 6,
   "metadata": {},
   "outputs": [],
   "source": [
    "def plot_confusion_matrix(y_true, y_pred, labels):\n",
    "    cm = confusion_matrix(y_true, y_pred, labels=labels)\n",
    "    plt.figure(figsize=(8, 6))\n",
    "    sns.heatmap(cm, annot=True, fmt=\"d\", cmap=\"Blues\", xticklabels=labels, yticklabels=labels)\n",
    "    plt.ylabel(\"Actual\")\n",
    "    plt.xlabel(\"Predicted\")\n",
    "    plt.title(\"Confusion Matrix\")\n",
    "    plt.show()"
   ]
  },
  {
   "cell_type": "markdown",
   "metadata": {},
   "source": [
    "Main function to execute the news classification pipeline.\n"
   ]
  },
  {
   "cell_type": "code",
   "execution_count": null,
   "metadata": {},
   "outputs": [
    {
     "name": "stdout",
     "output_type": "stream",
     "text": [
      "Best hyperparameters found: {'clf__ccp_alpha': 0.0, 'clf__max_depth': None, 'clf__min_samples_split': 2}\n",
      "=== Test Set Performance ===\n",
      "Accuracy: 0.7996052631578947\n",
      "Classification Report:\n",
      "               precision    recall  f1-score   support\n",
      "\n",
      "    Business       0.77      0.74      0.76      1900\n",
      "    Sci/Tech       0.77      0.76      0.76      1900\n",
      "      Sports       0.85      0.87      0.86      1900\n",
      "       World       0.81      0.82      0.81      1900\n",
      "\n",
      "    accuracy                           0.80      7600\n",
      "   macro avg       0.80      0.80      0.80      7600\n",
      "weighted avg       0.80      0.80      0.80      7600\n",
      "\n",
      "=== Cross-Validation on Training Set ===\n",
      "CV Accuracy Scores: [0.79279167 0.79658333 0.799125   0.79333333 0.79058333]\n",
      "Mean CV Accuracy: 0.7945 ± 0.0030\n"
     ]
    },
    {
     "data": {
      "image/png": "[encoded data removed]",
      "text/plain": [
       "<Figure size 800x600 with 2 Axes>"
      ]
     },
     "metadata": {},
     "output_type": "display_data"
    },
    {
     "name": "stdout",
     "output_type": "stream",
     "text": [
      "Top 10 important features:\n",
      "iraq: 0.0296\n",
      "stocks: 0.0230\n",
      "microsoft: 0.0227\n",
      "game: 0.0199\n",
      "season: 0.0177\n",
      "minister: 0.0169\n",
      "president: 0.0157\n",
      "oil: 0.0156\n",
      "cup: 0.0155\n",
      "killed: 0.0152\n",
      "=== Usage Example ===\n",
      "Text: Wall Street sees renewed optimism in tech stocks\n",
      "Predicted Label: Business\n",
      "\n",
      "Text: Soccer World Cup final brings excitement worldwide\n",
      "Predicted Label: Sports\n",
      "\n"
     ]
    }
   ],
   "source": [
    "train_df, test_df = load_and_preprocess_data()\n",
    "X_train = train_df['text'].tolist()\n",
    "y_train = train_df['Category'].tolist()\n",
    "X_test = test_df['text'].tolist()\n",
    "y_test = test_df['Category'].tolist()\n",
    "\n",
    "pipeline = build_pipeline()\n",
    "tuned_pipeline = tune_hyperparameters(pipeline, X_train, y_train)\n",
    "tuned_pipeline.fit(X_train, y_train)\n",
    "\n",
    "# Evaluate on the test set\n",
    "y_pred = tuned_pipeline.predict(X_test)\n",
    "print(\"=== Test Set Performance ===\")\n",
    "print(\"Accuracy:\", accuracy_score(y_test, y_pred))\n",
    "print(\"Classification Report:\\n\", classification_report(y_test, y_pred))\n",
    "\n",
    "# Cross-validation on the training set\n",
    "print(\"=== Cross-Validation on Training Set ===\")\n",
    "skf = StratifiedKFold(n_splits=5, shuffle=True, random_state=42)\n",
    "cv_scores = cross_val_score(tuned_pipeline, X_train, y_train, cv=skf, scoring='accuracy')\n",
    "print(f\"CV Accuracy Scores: {cv_scores}\")\n",
    "print(f\"Mean CV Accuracy: {np.mean(cv_scores):.4f} ± {np.std(cv_scores):.4f}\")\n",
    "\n",
    "# Performance Analysis: Plot confusion matrix\n",
    "plot_confusion_matrix(y_test, y_pred, labels=list(CATEGORY_MAPPING.values()))\n",
    "\n",
    "# Usage Example: Predict new samples\n",
    "new_samples = [\n",
    "    \"Wall Street sees renewed optimism in tech stocks\",\n",
    "    \"Soccer World Cup final brings excitement worldwide\"\n",
    "]\n",
    "predictions = tuned_pipeline.predict(new_samples)\n",
    "print(\"=== Usage Example ===\")\n",
    "for text, pred in zip(new_samples, predictions):\n",
    "    print(f\"Text: {text}\\nPredicted Label: {pred}\\n\")\n",
    "    "
   ]
  }
 ],
 "metadata": {
  "kernelspec": {
   "display_name": "base",
   "language": "python",
   "name": "python3"
  },
  "language_info": {
   "codemirror_mode": {
    "name": "ipython",
    "version": 3
   },
   "file_extension": ".py",
   "mimetype": "text/x-python",
   "name": "python",
   "nbconvert_exporter": "python",
   "pygments_lexer": "ipython3",
   "version": "3.12.7"
  }
 },
 "nbformat": 4,
 "nbformat_minor": 2
}
