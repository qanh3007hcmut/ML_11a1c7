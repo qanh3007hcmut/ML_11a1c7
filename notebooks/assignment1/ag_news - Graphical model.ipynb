{
 "cells": [
  {
   "cell_type": "markdown",
   "metadata": {},
   "source": [
    "# 5. Graphical model\n",
    "\n",
    "We decided to classify the news based on four different types: World, Sports, Business, Sci/Tech.\n",
    "\n",
    "Used dataset: https://huggingface.co/datasets/fancyzhx/ag_news.\n",
    "Dataset structure: two splits for train (120,000 records) and test (7,600 records), with two columns:\n",
    "\n",
    "- 'text': contains string of news content.\n",
    "- 'label': 0: 'World', 1: 'Sports', 2: 'Business', 3: 'Sci/Tech'"
   ]
  },
  {
   "cell_type": "markdown",
   "metadata": {},
   "source": [
    "### Import necessary dataset, especially pgmpy for Bayesian Network Model"
   ]
  },
  {
   "cell_type": "code",
   "execution_count": 1,
   "metadata": {
    "execution": {
     "iopub.execute_input": "2025-03-03T08:48:13.323514Z",
     "iopub.status.busy": "2025-03-03T08:48:13.323096Z",
     "iopub.status.idle": "2025-03-03T08:48:13.330667Z",
     "shell.execute_reply": "2025-03-03T08:48:13.329224Z",
     "shell.execute_reply.started": "2025-03-03T08:48:13.323483Z"
    },
    "trusted": true
   },
   "outputs": [
    {
     "ename": "ModuleNotFoundError",
     "evalue": "No module named 'pgmpy'",
     "output_type": "error",
     "traceback": [
      "\u001b[1;31m---------------------------------------------------------------------------\u001b[0m",
      "\u001b[1;31mModuleNotFoundError\u001b[0m                       Traceback (most recent call last)",
      "Cell \u001b[1;32mIn[1], line 9\u001b[0m\n\u001b[0;32m      7\u001b[0m \u001b[38;5;28;01mfrom\u001b[39;00m\u001b[38;5;250m \u001b[39m\u001b[38;5;21;01msklearn\u001b[39;00m\u001b[38;5;21;01m.\u001b[39;00m\u001b[38;5;21;01mfeature_extraction\u001b[39;00m\u001b[38;5;21;01m.\u001b[39;00m\u001b[38;5;21;01mtext\u001b[39;00m\u001b[38;5;250m \u001b[39m\u001b[38;5;28;01mimport\u001b[39;00m TfidfVectorizer\n\u001b[0;32m      8\u001b[0m \u001b[38;5;28;01mfrom\u001b[39;00m\u001b[38;5;250m \u001b[39m\u001b[38;5;21;01msklearn\u001b[39;00m\u001b[38;5;21;01m.\u001b[39;00m\u001b[38;5;21;01mpreprocessing\u001b[39;00m\u001b[38;5;250m \u001b[39m\u001b[38;5;28;01mimport\u001b[39;00m KBinsDiscretizer, LabelEncoder, label_binarize, StandardScaler\n\u001b[1;32m----> 9\u001b[0m \u001b[38;5;28;01mfrom\u001b[39;00m\u001b[38;5;250m \u001b[39m\u001b[38;5;21;01mpgmpy\u001b[39;00m\u001b[38;5;21;01m.\u001b[39;00m\u001b[38;5;21;01mmodels\u001b[39;00m\u001b[38;5;250m \u001b[39m\u001b[38;5;28;01mimport\u001b[39;00m BayesianNetwork\n\u001b[0;32m     10\u001b[0m \u001b[38;5;28;01mfrom\u001b[39;00m\u001b[38;5;250m \u001b[39m\u001b[38;5;21;01mpgmpy\u001b[39;00m\u001b[38;5;21;01m.\u001b[39;00m\u001b[38;5;21;01mestimators\u001b[39;00m\u001b[38;5;250m \u001b[39m\u001b[38;5;28;01mimport\u001b[39;00m MaximumLikelihoodEstimator\n\u001b[0;32m     11\u001b[0m \u001b[38;5;28;01mfrom\u001b[39;00m\u001b[38;5;250m \u001b[39m\u001b[38;5;21;01mpgmpy\u001b[39;00m\u001b[38;5;21;01m.\u001b[39;00m\u001b[38;5;21;01minference\u001b[39;00m\u001b[38;5;250m \u001b[39m\u001b[38;5;28;01mimport\u001b[39;00m VariableElimination\n",
      "\u001b[1;31mModuleNotFoundError\u001b[0m: No module named 'pgmpy'"
     ]
    }
   ],
   "source": [
    "import warnings\n",
    "import pandas as pd\n",
    "import numpy as np\n",
    "import seaborn as sns\n",
    "import matplotlib.pyplot as plt\n",
    "import logging\n",
    "from sklearn.feature_extraction.text import TfidfVectorizer\n",
    "from sklearn.preprocessing import KBinsDiscretizer, LabelEncoder, label_binarize, StandardScaler\n",
    "from pgmpy.models import BayesianNetwork\n",
    "from pgmpy.estimators import MaximumLikelihoodEstimator\n",
    "from pgmpy.inference import VariableElimination\n",
    "from datasets import load_dataset\n",
    "from sklearn.metrics import classification_report, confusion_matrix, accuracy_score, roc_auc_score\n",
    "from hmmlearn import hmm\n",
    "from sklearn.feature_extraction.text import CountVectorizer"
   ]
  },
  {
   "cell_type": "markdown",
   "metadata": {},
   "source": [
    "### Preprocessing data by mapping category and make sample (if necessary)"
   ]
  },
  {
   "cell_type": "code",
   "execution_count": 4,
   "metadata": {
    "execution": {
     "iopub.execute_input": "2025-03-03T08:46:52.325638Z",
     "iopub.status.busy": "2025-03-03T08:46:52.324358Z",
     "iopub.status.idle": "2025-03-03T08:46:52.333074Z",
     "shell.execute_reply": "2025-03-03T08:46:52.331466Z",
     "shell.execute_reply.started": "2025-03-03T08:46:52.325586Z"
    },
    "trusted": true
   },
   "outputs": [],
   "source": [
    "def load_and_preprocess_data():\n",
    "    \"\"\"\n",
    "    Load data from hugging face dataset and preprocessing, return DataFrame.\n",
    "    \"\"\"\n",
    "    \n",
    "    # Mapping the label column to the corresponding type\n",
    "    CATEGORY_MAPPING = {0: 'World', 1: 'Sports', 2: 'Business', 3: 'Sci/Tech'}\n",
    "    dataset = load_dataset(\"fancyzhx/ag_news\")\n",
    "    \n",
    "    # Convert to pandas DataFrame\n",
    "    train_df = dataset[\"train\"].to_pandas()\n",
    "    test_df = dataset[\"test\"].to_pandas()\n",
    "    \n",
    "    train_df['Category'] = train_df.pop('label').map(CATEGORY_MAPPING)\n",
    "    test_df['Category'] = test_df.pop('label').map(CATEGORY_MAPPING)\n",
    "    \n",
    "    return train_df, test_df"
   ]
  },
  {
   "cell_type": "markdown",
   "metadata": {},
   "source": [
    "### Building Bayesian Network Classifier to proceed the fit and predict methods"
   ]
  },
  {
   "cell_type": "markdown",
   "metadata": {},
   "source": [
    "Since Bayesian Network requires categorical input, we need a pipeline to process the input in string format to the output (which is in discrete value) and then fit the model.\n",
    "\n",
    "Pipeline: string input -> TF-IDF Vectorizer to make vector -> KBinsDiscretizer to create discrete value"
   ]
  },
  {
   "cell_type": "code",
   "execution_count": 5,
   "metadata": {
    "execution": {
     "iopub.execute_input": "2025-03-03T04:05:12.771592Z",
     "iopub.status.busy": "2025-03-03T04:05:12.771212Z",
     "iopub.status.idle": "2025-03-03T04:05:12.783241Z",
     "shell.execute_reply": "2025-03-03T04:05:12.782067Z",
     "shell.execute_reply.started": "2025-03-03T04:05:12.771563Z"
    },
    "trusted": true
   },
   "outputs": [],
   "source": [
    "class BayesianNetworkClassifier:\n",
    "    def __init__(self, n_bins=10, max_features=1000):\n",
    "        # Set max_features to capture all the feature\n",
    "        self.vectorizer = TfidfVectorizer(stop_words='english', max_features=max_features)\n",
    "        \n",
    "        # Discretizer to make discrete value from vector\n",
    "        self.discretizer = KBinsDiscretizer(n_bins=n_bins, encode='ordinal', strategy='uniform')\n",
    "\n",
    "        # Label encoder to encode y column to discrete value\n",
    "        self.label_encoder = LabelEncoder()\n",
    "        self.model = None\n",
    "\n",
    "    def fit(self, X_train, y_train):\n",
    "        \"\"\"\n",
    "        Fit the Bayesian Network with given X_train and y_train data.\n",
    "        \"\"\"\n",
    "        # Vectorize the text (or X column)\n",
    "        X_tfidf = self.vectorizer.fit_transform(X_train).toarray()\n",
    "\n",
    "        # Discretization\n",
    "        X_disc = self.discretizer.fit_transform(X_tfidf)\n",
    "        \n",
    "        # Encode the labels to discrete integer\n",
    "        y_encoded = self.label_encoder.fit_transform(y_train)\n",
    "        \n",
    "        # Each word depends on a word with specific discrete value (or label)\n",
    "        df = pd.DataFrame(X_disc, columns=[f'word_{i}' for i in range(X_disc.shape[1])])\n",
    "        df['Category'] = y_encoded\n",
    "        \n",
    "        # word ith will depend on the correspond Category due to Naive Bayes\n",
    "        structure = [('Category', f'word_{i}') for i in range(X_disc.shape[1])]\n",
    "        self.model = BayesianNetwork(structure)\n",
    "        \n",
    "        # fitting with Maximum Likelihood Estimator\n",
    "        self.model.fit(df, estimator=MaximumLikelihoodEstimator)\n",
    "    \n",
    "    def predict(self, X_test):\n",
    "        \"\"\"\n",
    "        Get model prediction for all the data in X_test.\n",
    "        \"\"\"\n",
    "        # transform a string to vector and discretized value before\n",
    "        X_tfidf = self.vectorizer.transform(X_test).toarray()\n",
    "        X_disc = self.discretizer.transform(X_tfidf)\n",
    "\n",
    "        # eliminate unnecessary variable to cut down the computation\n",
    "        inference = VariableElimination(self.model)\n",
    "\n",
    "        # fitting process\n",
    "        predictions = []\n",
    "        for row in X_disc:\n",
    "            evidence = {f'word_{i}': int(row[i]) for i in range(len(row))}\n",
    "            try:\n",
    "                result = inference.map_query(variables=['Category'], evidence=evidence, show_progress=False)\n",
    "                predictions.append(int(result['Category']))\n",
    "            except Exception as e:\n",
    "                predictions.append(0)\n",
    "        return self.label_encoder.inverse_transform(predictions)\n",
    "    \n",
    "    def predict_proba(self, X_test):\n",
    "        \"\"\"\n",
    "        Probability of each prediction for evaluation.\n",
    "        \"\"\"\n",
    "        # Testing process\n",
    "        X_tfidf = self.vectorizer.transform(X_test).toarray()\n",
    "        X_disc = self.discretizer.transform(X_tfidf)\n",
    "        inference = VariableElimination(self.model)\n",
    "\n",
    "        # Store probabilities\n",
    "        prob_predictions = []\n",
    "        for row in X_disc:\n",
    "            evidence = {f'word_{i}': int(row[i]) for i in range(len(row))}\n",
    "            try:\n",
    "                result = inference.query(variables=['Category'], evidence=evidence, show_progress=False)\n",
    "                prob_predictions.append(result.values)\n",
    "            except Exception as e:\n",
    "                prob_predictions.append(np.zeros(len(self.label_encoder.classes_)))\n",
    "        return np.array(prob_predictions)"
   ]
  },
  {
   "cell_type": "code",
   "execution_count": 7,
   "metadata": {
    "execution": {
     "iopub.execute_input": "2025-03-03T04:05:22.241233Z",
     "iopub.status.busy": "2025-03-03T04:05:22.240892Z",
     "iopub.status.idle": "2025-03-03T04:05:22.245604Z",
     "shell.execute_reply": "2025-03-03T04:05:22.244418Z",
     "shell.execute_reply.started": "2025-03-03T04:05:22.241207Z"
    },
    "trusted": true
   },
   "outputs": [],
   "source": [
    "def build_BN_pipeline():\n",
    "    return BayesianNetworkClassifier()"
   ]
  },
  {
   "cell_type": "markdown",
   "metadata": {},
   "source": [
    "We can calculate the average of macro-auc score for all the classes."
   ]
  },
  {
   "cell_type": "code",
   "execution_count": 8,
   "metadata": {
    "execution": {
     "iopub.execute_input": "2025-03-03T04:05:25.570418Z",
     "iopub.status.busy": "2025-03-03T04:05:25.570017Z",
     "iopub.status.idle": "2025-03-03T04:05:25.575936Z",
     "shell.execute_reply": "2025-03-03T04:05:25.574728Z",
     "shell.execute_reply.started": "2025-03-03T04:05:25.570388Z"
    },
    "trusted": true
   },
   "outputs": [],
   "source": [
    "def calc_roc_auc(y_true, y_pred):\n",
    "    # Convert y_true and y_pred from labels to numerical values by label_encoder\n",
    "    label_encoder = bn_classifier.label_encoder\n",
    "    y_true_encoded = label_encoder.transform(y_true)\n",
    "    y_pred_encoded = label_encoder.transform(y_pred)\n",
    "\n",
    "    # One-hot encoding for multiclasses\n",
    "    classes = np.unique(y_true_encoded)\n",
    "    y_true_binarized = label_binarize(y_true_encoded, classes=classes)\n",
    "    y_pred_binarized = label_binarize(y_pred_encoded, classes=classes)\n",
    "\n",
    "    # Calculate macro-average ROC AUC\n",
    "    roc_auc = roc_auc_score(y_true_binarized, y_pred_binarized, average=\"macro\", multi_class=\"ovr\")\n",
    "    \n",
    "    print(f\"Macro-average ROC AUC: {roc_auc:.2f}\")"
   ]
  },
  {
   "cell_type": "markdown",
   "metadata": {},
   "source": [
    "### Main start"
   ]
  },
  {
   "cell_type": "code",
   "execution_count": null,
   "metadata": {
    "execution": {
     "execution_failed": "2025-03-03T05:23:45.697Z",
     "iopub.execute_input": "2025-03-03T04:05:27.931211Z",
     "iopub.status.busy": "2025-03-03T04:05:27.930873Z"
    },
    "trusted": true
   },
   "outputs": [
    {
     "data": {
      "application/vnd.jupyter.widget-view+json": {
       "model_id": "70af32eddc8145998b7019643cda87da",
       "version_major": 2,
       "version_minor": 0
      },
      "text/plain": [
       "README.md:   0%|          | 0.00/8.07k [00:00<?, ?B/s]"
      ]
     },
     "metadata": {},
     "output_type": "display_data"
    },
    {
     "data": {
      "application/vnd.jupyter.widget-view+json": {
       "model_id": "f1dc29a66b6a45579fae820e7e0e02e0",
       "version_major": 2,
       "version_minor": 0
      },
      "text/plain": [
       "train-00000-of-00001.parquet:   0%|          | 0.00/18.6M [00:00<?, ?B/s]"
      ]
     },
     "metadata": {},
     "output_type": "display_data"
    },
    {
     "data": {
      "application/vnd.jupyter.widget-view+json": {
       "model_id": "9d9ff998e9eb414f902bf77ba6ba49fa",
       "version_major": 2,
       "version_minor": 0
      },
      "text/plain": [
       "test-00000-of-00001.parquet:   0%|          | 0.00/1.23M [00:00<?, ?B/s]"
      ]
     },
     "metadata": {},
     "output_type": "display_data"
    },
    {
     "data": {
      "application/vnd.jupyter.widget-view+json": {
       "model_id": "ee7634db2dce4f39ab78e4911887b227",
       "version_major": 2,
       "version_minor": 0
      },
      "text/plain": [
       "Generating train split:   0%|          | 0/120000 [00:00<?, ? examples/s]"
      ]
     },
     "metadata": {},
     "output_type": "display_data"
    },
    {
     "data": {
      "application/vnd.jupyter.widget-view+json": {
       "model_id": "6c29e246e1584408b8203edcf8459622",
       "version_major": 2,
       "version_minor": 0
      },
      "text/plain": [
       "Generating test split:   0%|          | 0/7600 [00:00<?, ? examples/s]"
      ]
     },
     "metadata": {},
     "output_type": "display_data"
    },
    {
     "name": "stdout",
     "output_type": "stream",
     "text": [
      "Fitting model...\n",
      "Model fitting completed.\n",
      "Predicting on test set...\n"
     ]
    },
    {
     "name": "stderr",
     "output_type": "stream",
     "text": [
      "/usr/local/lib/python3.10/dist-packages/pgmpy/factors/discrete/DiscreteFactor.py:489: RuntimeWarning: invalid value encountered in divide\n",
      "  phi.values = phi.values / phi.values.sum()\n"
     ]
    }
   ],
   "source": [
    "warnings.filterwarnings(\"ignore\", category=UserWarning, module=\"sklearn\")\n",
    "# Load and preprocessing data\n",
    "train_df, test_df = load_and_preprocess_data()\n",
    "X_train, y_train = train_df['text'], train_df['Category']\n",
    "X_test, y_test = test_df['text'], test_df['Category']\n",
    "    \n",
    "# Initialize Bayesian Network and fit the model\n",
    "bn_classifier = build_BN_pipeline()\n",
    "print(\"Fitting model...\")\n",
    "bn_classifier.fit(X_train, y_train)\n",
    "print(\"Model fitting completed.\")\n",
    "    \n",
    "# Predict on test set\n",
    "print(\"Predicting on test set...\")\n",
    "y_pred = bn_classifier.predict(X_test)"
   ]
  },
  {
   "cell_type": "markdown",
   "metadata": {},
   "source": [
    "Classification report"
   ]
  },
  {
   "cell_type": "code",
   "execution_count": 27,
   "metadata": {
    "execution": {
     "iopub.execute_input": "2025-03-01T04:20:05.703230Z",
     "iopub.status.busy": "2025-03-01T04:20:05.702678Z",
     "iopub.status.idle": "2025-03-01T04:20:05.913942Z",
     "shell.execute_reply": "2025-03-01T04:20:05.912980Z",
     "shell.execute_reply.started": "2025-03-01T04:20:05.703189Z"
    },
    "trusted": true
   },
   "outputs": [
    {
     "name": "stdout",
     "output_type": "stream",
     "text": [
      "\n",
      "Classification Report:\n",
      "              precision    recall  f1-score   support\n",
      "\n",
      "    Business       0.84      0.73      0.78      1900\n",
      "    Sci/Tech       0.78      0.81      0.79      1900\n",
      "      Sports       0.85      0.94      0.90      1900\n",
      "       World       0.85      0.84      0.84      1900\n",
      "\n",
      "    accuracy                           0.83      7600\n",
      "   macro avg       0.83      0.83      0.83      7600\n",
      "weighted avg       0.83      0.83      0.83      7600\n",
      "\n"
     ]
    }
   ],
   "source": [
    "# Classification report for precision, recall and f1-score\n",
    "print(\"\\nClassification Report:\")\n",
    "print(classification_report(y_test, y_pred))"
   ]
  },
  {
   "cell_type": "markdown",
   "metadata": {},
   "source": [
    "Confusion matrix"
   ]
  },
  {
   "cell_type": "code",
   "execution_count": 28,
   "metadata": {
    "execution": {
     "iopub.execute_input": "2025-03-01T04:20:08.324415Z",
     "iopub.status.busy": "2025-03-01T04:20:08.324093Z",
     "iopub.status.idle": "2025-03-01T04:20:08.618946Z",
     "shell.execute_reply": "2025-03-01T04:20:08.617941Z",
     "shell.execute_reply.started": "2025-03-01T04:20:08.324388Z"
    },
    "trusted": true
   },
   "outputs": [
    {
     "data": {
      "image/png": "[encoded data removed]",
      "text/plain": [
       "<Figure size 800x600 with 2 Axes>"
      ]
     },
     "metadata": {},
     "output_type": "display_data"
    }
   ],
   "source": [
    "# Confusion matrix\n",
    "cm = confusion_matrix(y_test, y_pred)\n",
    "plt.figure(figsize=(8,6))\n",
    "sns.heatmap(cm, annot=True, fmt='d', cmap='Blues',\n",
    "                xticklabels=bn_classifier.label_encoder.classes_,\n",
    "                yticklabels=bn_classifier.label_encoder.classes_)\n",
    "plt.xlabel('Predicted')\n",
    "plt.ylabel('Actual')\n",
    "plt.title('Confusion Matrix')\n",
    "plt.show()"
   ]
  },
  {
   "cell_type": "markdown",
   "metadata": {},
   "source": [
    "Macro-AUC average score"
   ]
  },
  {
   "cell_type": "code",
   "execution_count": 29,
   "metadata": {
    "execution": {
     "iopub.execute_input": "2025-03-01T04:20:11.523474Z",
     "iopub.status.busy": "2025-03-01T04:20:11.523137Z",
     "iopub.status.idle": "2025-03-01T04:20:11.541952Z",
     "shell.execute_reply": "2025-03-01T04:20:11.540534Z",
     "shell.execute_reply.started": "2025-03-01T04:20:11.523447Z"
    },
    "trusted": true
   },
   "outputs": [
    {
     "name": "stdout",
     "output_type": "stream",
     "text": [
      "Macro-average ROC AUC: 0.89\n"
     ]
    }
   ],
   "source": [
    "# ROC-AUC average score\n",
    "calc_roc_auc(y_test, y_pred)"
   ]
  },
  {
   "cell_type": "markdown",
   "metadata": {},
   "source": [
    "Model accuracy"
   ]
  },
  {
   "cell_type": "code",
   "execution_count": 30,
   "metadata": {
    "execution": {
     "iopub.execute_input": "2025-03-01T04:20:13.510444Z",
     "iopub.status.busy": "2025-03-01T04:20:13.509951Z",
     "iopub.status.idle": "2025-03-01T04:20:13.523152Z",
     "shell.execute_reply": "2025-03-01T04:20:13.522154Z",
     "shell.execute_reply.started": "2025-03-01T04:20:13.510402Z"
    },
    "trusted": true
   },
   "outputs": [
    {
     "name": "stdout",
     "output_type": "stream",
     "text": [
      "Accuracy: 82.96%\n"
     ]
    }
   ],
   "source": [
    "# Accuracy\n",
    "acc = accuracy_score(y_test, y_pred)\n",
    "print(f\"Accuracy: {acc * 100:.2f}%\")"
   ]
  },
  {
   "cell_type": "markdown",
   "metadata": {},
   "source": [
    "Performance evaluation with inference time on the 1000-record sample"
   ]
  },
  {
   "cell_type": "code",
   "execution_count": 34,
   "metadata": {
    "execution": {
     "iopub.execute_input": "2025-03-01T04:24:31.569701Z",
     "iopub.status.busy": "2025-03-01T04:24:31.569366Z",
     "iopub.status.idle": "2025-03-01T04:38:03.464167Z",
     "shell.execute_reply": "2025-03-01T04:38:03.463328Z",
     "shell.execute_reply.started": "2025-03-01T04:24:31.569672Z"
    },
    "trusted": true
   },
   "outputs": [
    {
     "name": "stderr",
     "output_type": "stream",
     "text": [
      "/usr/local/lib/python3.10/dist-packages/pgmpy/factors/discrete/DiscreteFactor.py:489: RuntimeWarning: invalid value encountered in divide\n",
      "  phi.values = phi.values / phi.values.sum()\n"
     ]
    },
    {
     "name": "stdout",
     "output_type": "stream",
     "text": [
      "Inference time: 811.8895 seconds\n"
     ]
    }
   ],
   "source": [
    "import time\n",
    "start_time = time.time()\n",
    "bn_classifier.predict(X_test[:1000])\n",
    "inference_time = time.time() - start_time\n",
    "\n",
    "print(f\"Inference time: {inference_time:.4f} seconds\")"
   ]
  },
  {
   "cell_type": "markdown",
   "metadata": {},
   "source": [
    "# 2. Hidden Markov Model"
   ]
  },
  {
   "cell_type": "markdown",
   "metadata": {},
   "source": [
    "We create HMM with 4 hidden layers to avoid overfitting and to capture more complex structure.\n",
    "\n",
    "Because we use Gaussian HMM then we use Scaler to scale the data to Gaussian distribution."
   ]
  },
  {
   "cell_type": "code",
   "execution_count": 5,
   "metadata": {
    "execution": {
     "iopub.execute_input": "2025-03-03T08:47:00.366407Z",
     "iopub.status.busy": "2025-03-03T08:47:00.365956Z",
     "iopub.status.idle": "2025-03-03T08:47:00.377870Z",
     "shell.execute_reply": "2025-03-03T08:47:00.376692Z",
     "shell.execute_reply.started": "2025-03-03T08:47:00.366373Z"
    },
    "trusted": true
   },
   "outputs": [],
   "source": [
    "class HMMClassifier:\n",
    "    def __init__(self, n_components=5, covariance_type='diag', n_iter=100, max_features=1000):\n",
    "        self.n_components = n_components\n",
    "        self.covariance_type = covariance_type\n",
    "        self.n_iter = n_iter\n",
    "        self.max_features = max_features\n",
    "        self.category_hmms = {}\n",
    "        self.vectorizer = CountVectorizer(max_features=max_features, stop_words=\"english\")\n",
    "        self.label_encoder = LabelEncoder()\n",
    "\n",
    "    def fit(self, X_train, y_train):\n",
    "        y_train_encoded = self.label_encoder.fit_transform(y_train)\n",
    "        X_train_counts = self.vectorizer.fit_transform(X_train).toarray()\n",
    "        \n",
    "        for category in self.label_encoder.classes_:\n",
    "            idx = y_train == category\n",
    "            model = hmm.GaussianHMM(n_components=self.n_components, covariance_type=self.covariance_type, n_iter=self.n_iter)\n",
    "            model.fit(X_train_counts[idx])\n",
    "            self.category_hmms[category] = model\n",
    "\n",
    "    def predict(self, X):\n",
    "        X_counts = self.vectorizer.transform(X).toarray()\n",
    "        predictions = []\n",
    "        for sample in X_counts:\n",
    "            scores = {cat: model.score(sample.reshape(1, -1)) for cat, model in self.category_hmms.items()}\n",
    "            predicted_category = max(scores, key=scores.get)\n",
    "            predictions.append(predicted_category)\n",
    "        return np.array(predictions)\n",
    "    \n",
    "    def evaluate(self, X_test, y_test):\n",
    "        y_test_encoded = self.label_encoder.transform(y_test)\n",
    "        y_pred = self.predict(X_test)\n",
    "        y_pred_encoded = self.label_encoder.transform(y_pred)\n",
    "        \n",
    "        # Classification Report\n",
    "        print(\"=== Classification Report ===\")\n",
    "        print(classification_report(y_test_encoded, y_pred_encoded, target_names=self.label_encoder.classes_))\n",
    "        \n",
    "        # Confusion Matrix\n",
    "        cm = confusion_matrix(y_test_encoded, y_pred_encoded)\n",
    "        plt.figure(figsize=(8,6))\n",
    "        sns.heatmap(cm, annot=True, fmt='d', cmap='Blues', xticklabels=self.label_encoder.classes_, yticklabels=self.label_encoder.classes_)\n",
    "        plt.xlabel('Predicted')\n",
    "        plt.ylabel('Actual')\n",
    "        plt.title('Confusion Matrix')\n",
    "        plt.show()\n",
    "        \n",
    "        # Accuracy\n",
    "        accuracy = accuracy_score(y_test_encoded, y_pred_encoded)\n",
    "        print(f'Accuracy: {accuracy * 100:.2f}%')\n",
    "        return accuracy"
   ]
  },
  {
   "cell_type": "code",
   "execution_count": 6,
   "metadata": {
    "execution": {
     "iopub.execute_input": "2025-03-03T08:47:02.901421Z",
     "iopub.status.busy": "2025-03-03T08:47:02.900978Z",
     "iopub.status.idle": "2025-03-03T08:47:02.906584Z",
     "shell.execute_reply": "2025-03-03T08:47:02.905345Z",
     "shell.execute_reply.started": "2025-03-03T08:47:02.901387Z"
    },
    "trusted": true
   },
   "outputs": [],
   "source": [
    "def build_HMM_pipeline():\n",
    "    return HMMClassifier()"
   ]
  },
  {
   "cell_type": "code",
   "execution_count": 9,
   "metadata": {
    "execution": {
     "iopub.execute_input": "2025-03-03T08:48:58.870288Z",
     "iopub.status.busy": "2025-03-03T08:48:58.869835Z",
     "iopub.status.idle": "2025-03-03T08:52:44.752686Z",
     "shell.execute_reply": "2025-03-03T08:52:44.751695Z",
     "shell.execute_reply.started": "2025-03-03T08:48:58.870258Z"
    },
    "trusted": true
   },
   "outputs": [
    {
     "name": "stdout",
     "output_type": "stream",
     "text": [
      "=== Classification Report ===\n",
      "              precision    recall  f1-score   support\n",
      "\n",
      "    Business       0.53      0.70      0.60      1900\n",
      "    Sci/Tech       0.64      0.55      0.59      1900\n",
      "      Sports       0.77      0.67      0.72      1900\n",
      "       World       0.74      0.71      0.72      1900\n",
      "\n",
      "    accuracy                           0.65      7600\n",
      "   macro avg       0.67      0.65      0.66      7600\n",
      "weighted avg       0.67      0.65      0.66      7600\n",
      "\n"
     ]
    },
    {
     "data": {
      "image/png": "[encoded data removed]",
      "text/plain": [
       "<Figure size 800x600 with 2 Axes>"
      ]
     },
     "metadata": {},
     "output_type": "display_data"
    },
    {
     "name": "stdout",
     "output_type": "stream",
     "text": [
      "Accuracy: 65.45%\n"
     ]
    },
    {
     "data": {
      "text/plain": [
       "0.6544736842105263"
      ]
     },
     "execution_count": 9,
     "metadata": {},
     "output_type": "execute_result"
    }
   ],
   "source": [
    "# Load data\n",
    "train_df, test_df = load_and_preprocess_data()\n",
    "X_train, y_train = train_df['text'], train_df['Category']\n",
    "X_test, y_test = test_df['text'], test_df['Category']\n",
    "\n",
    "# Train HMM model\n",
    "hmm_classifier = build_HMM_pipeline()\n",
    "hmm_classifier.fit(X_train, y_train)\n",
    "\n",
    "hmm_classifier.evaluate(X_test, y_test)"
   ]
  },
  {
   "cell_type": "code",
   "execution_count": null,
   "metadata": {
    "trusted": true
   },
   "outputs": [],
   "source": []
  }
 ],
 "metadata": {
  "kaggle": {
   "accelerator": "none",
   "dataSources": [],
   "dockerImageVersionId": 30918,
   "isGpuEnabled": false,
   "isInternetEnabled": true,
   "language": "python",
   "sourceType": "notebook"
  },
  "kernelspec": {
   "display_name": "Python 3",
   "language": "python",
   "name": "python3"
  },
  "language_info": {
   "codemirror_mode": {
    "name": "ipython",
    "version": 3
   },
   "file_extension": ".py",
   "mimetype": "text/x-python",
   "name": "python",
   "nbconvert_exporter": "python",
   "pygments_lexer": "ipython3",
   "version": "3.12.9"
  }
 },
 "nbformat": 4,
 "nbformat_minor": 4
}
