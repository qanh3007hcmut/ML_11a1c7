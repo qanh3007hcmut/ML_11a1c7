{
 "cells": [
  {
   "cell_type": "code",
   "execution_count": 12,
   "metadata": {},
   "outputs": [],
   "source": [
    "import numpy as np\n",
    "import pandas as pd\n",
    "import pickle\n",
    "from datasets import load_dataset\n",
    "from sklearn.model_selection import train_test_split\n",
    "from sklearn.feature_extraction.text import TfidfVectorizer\n",
    "from sklearn.ensemble import AdaBoostClassifier, VotingClassifier\n",
    "from sklearn.ensemble import BaggingClassifier as Bagging\n",
    "from sklearn.linear_model import LogisticRegression\n",
    "from sklearn.naive_bayes import MultinomialNB\n",
    "from sklearn.tree import DecisionTreeClassifier\n",
    "from sklearn.metrics import accuracy_score, classification_report"
   ]
  },
  {
   "cell_type": "code",
   "execution_count": 13,
   "metadata": {},
   "outputs": [],
   "source": [
    "# Mapping labels to categories\n",
    "CATEGORY_MAPPING = {0: 'World', 1: 'Sports', 2: 'Business', 3: 'Sci/Tech'}\n",
    "\n",
    "# Load and preprocess the data\n",
    "def load_and_preprocess_data():\n",
    "    dataset_name = \"fancyzhx/ag_news\"\n",
    "    dataset = load_dataset(dataset_name)\n",
    "\n",
    "    train_df = dataset['train'].to_pandas()\n",
    "    test_df = dataset['test'].to_pandas()\n",
    "\n",
    "    # Map numeric labels to text categories\n",
    "    train_df['Category'] = train_df['label'].map(CATEGORY_MAPPING)\n",
    "    test_df['Category'] = test_df['label'].map(CATEGORY_MAPPING)\n",
    "\n",
    "    return train_df, test_df"
   ]
  },
  {
   "cell_type": "code",
   "execution_count": 21,
   "metadata": {},
   "outputs": [],
   "source": [
    "# Bagging Classifier\n",
    "class BaggingClassifier:\n",
    "    def __init__(self, n_estimators=50, random_state=42):\n",
    "        self.base_models = [\n",
    "            ('lr', LogisticRegression(max_iter=1000)),\n",
    "            ('nb', MultinomialNB()),\n",
    "            ('dt', DecisionTreeClassifier(max_depth=10))\n",
    "        ]\n",
    "        self.voting_clf = VotingClassifier(estimators=self.base_models, voting='soft')\n",
    "        self.model = Bagging(estimator=self.voting_clf, n_estimators=n_estimators, random_state=random_state)\n",
    "\n",
    "    def fit(self, X, y):\n",
    "        self.model.fit(X, y)\n",
    "\n",
    "    def predict(self, X):\n",
    "        return self.model.predict(X)\n",
    "\n",
    "    def save(self, filename):\n",
    "        with open(filename, \"wb\") as f:\n",
    "            pickle.dump(self.model, f)"
   ]
  },
  {
   "cell_type": "code",
   "execution_count": 22,
   "metadata": {},
   "outputs": [],
   "source": [
    "# Boosting Classifier\n",
    "class BoostingClassifier:\n",
    "    def __init__(self, n_estimators=10, random_state=42):\n",
    "        self.base_models = [\n",
    "            ('lr', LogisticRegression(max_iter=1000)),\n",
    "            ('nb', MultinomialNB()),\n",
    "            ('dt', DecisionTreeClassifier(max_depth=100))\n",
    "        ]\n",
    "        self.voting_clf = VotingClassifier(estimators=self.base_models, voting='soft', weights=[2, 1, 1])\n",
    "        self.model = AdaBoostClassifier(estimator=self.voting_clf, n_estimators=n_estimators, random_state=random_state)\n",
    "\n",
    "    def fit(self, X, y):\n",
    "        self.model.fit(X, y)\n",
    "\n",
    "    def predict(self, X):\n",
    "        return self.model.predict(X)\n",
    "\n",
    "    def save(self, filename):\n",
    "        with open(filename, \"wb\") as f:\n",
    "            pickle.dump(self.model, f)"
   ]
  },
  {
   "cell_type": "code",
   "execution_count": 23,
   "metadata": {},
   "outputs": [],
   "source": [
    "def evaluate_model(model, X_test, y_test, name):\n",
    "    y_pred = model.predict(X_test)\n",
    "    print(f\"\\n{name} Accuracy: {accuracy_score(y_test, y_pred):.4f}\")\n",
    "    print(classification_report(y_test, y_pred, target_names=CATEGORY_MAPPING.values()))"
   ]
  },
  {
   "cell_type": "code",
   "execution_count": 24,
   "metadata": {},
   "outputs": [],
   "source": [
    "train_df, test_df = load_and_preprocess_data()\n",
    "\n",
    "X_train_text = train_df['text']\n",
    "y_train = train_df['label']\n",
    "X_test_text = test_df['text']\n",
    "y_test = test_df['label']\n",
    "\n",
    "vectorizer = TfidfVectorizer(stop_words='english', max_features=5000)\n",
    "X_train = vectorizer.fit_transform(X_train_text)\n",
    "X_test = vectorizer.transform(X_test_text)\n",
    "\n",
    "bagging_clf = BaggingClassifier()\n",
    "boosting_clf = BoostingClassifier()"
   ]
  },
  {
   "cell_type": "code",
   "execution_count": 25,
   "metadata": {},
   "outputs": [
    {
     "name": "stdout",
     "output_type": "stream",
     "text": [
      "\n",
      "Bagging Classifier Accuracy: 0.9030\n",
      "              precision    recall  f1-score   support\n",
      "\n",
      "       World       0.92      0.90      0.91      1900\n",
      "      Sports       0.94      0.98      0.96      1900\n",
      "    Business       0.87      0.86      0.87      1900\n",
      "    Sci/Tech       0.88      0.88      0.88      1900\n",
      "\n",
      "    accuracy                           0.90      7600\n",
      "   macro avg       0.90      0.90      0.90      7600\n",
      "weighted avg       0.90      0.90      0.90      7600\n",
      "\n",
      "\n",
      "Boosting Classifier Accuracy: 0.8550\n",
      "              precision    recall  f1-score   support\n",
      "\n",
      "       World       0.87      0.85      0.86      1900\n",
      "      Sports       0.90      0.93      0.92      1900\n",
      "    Business       0.84      0.81      0.82      1900\n",
      "    Sci/Tech       0.81      0.83      0.82      1900\n",
      "\n",
      "    accuracy                           0.85      7600\n",
      "   macro avg       0.85      0.85      0.85      7600\n",
      "weighted avg       0.85      0.85      0.85      7600\n",
      "\n"
     ]
    }
   ],
   "source": [
    "bagging_clf.fit(X_train, y_train)\n",
    "evaluate_model(bagging_clf, X_test, y_test, \"Bagging Classifier\")\n",
    "bagging_clf.save(\"bagging_model.pkl\")\n",
    "\n",
    "boosting_clf.fit(X_train, y_train)\n",
    "evaluate_model(boosting_clf, X_test, y_test, \"Boosting Classifier\")\n",
    "boosting_clf.save(\"boosting_model.pkl\")\n",
    "\n",
    "# Save vectorizer\n",
    "with open(\"vectorizer.pkl\", \"wb\") as f:\n",
    "    pickle.dump(vectorizer, f)"
   ]
  },
  {
   "cell_type": "code",
   "execution_count": null,
   "metadata": {},
   "outputs": [],
   "source": []
  }
 ],
 "metadata": {
  "kernelspec": {
   "display_name": "Python 3",
   "language": "python",
   "name": "python3"
  },
  "language_info": {
   "codemirror_mode": {
    "name": "ipython",
    "version": 3
   },
   "file_extension": ".py",
   "mimetype": "text/x-python",
   "name": "python",
   "nbconvert_exporter": "python",
   "pygments_lexer": "ipython3",
   "version": "3.12.8"
  }
 },
 "nbformat": 4,
 "nbformat_minor": 2
}
