{
 "cells": [
  {
   "cell_type": "code",
   "execution_count": 1,
   "metadata": {
    "_cell_guid": "b1076dfc-b9ad-4769-8c92-a6c4dae69d19",
    "_uuid": "8f2839f25d086af736a60e9eeb907d3b93b6e0e5",
    "execution": {
     "iopub.execute_input": "2025-05-21T07:47:40.059155Z",
     "iopub.status.busy": "2025-05-21T07:47:40.058654Z",
     "iopub.status.idle": "2025-05-21T07:47:44.410157Z",
     "shell.execute_reply": "2025-05-21T07:47:44.409600Z",
     "shell.execute_reply.started": "2025-05-21T07:47:40.059135Z"
    },
    "trusted": true
   },
   "outputs": [],
   "source": [
    "import pandas as pd\n",
    "import numpy as np\n",
    "import matplotlib.pyplot as plt\n",
    "import seaborn as sns\n",
    "from sklearn.model_selection import StratifiedKFold, GridSearchCV, cross_val_score\n",
    "from sklearn.feature_extraction.text import TfidfVectorizer\n",
    "from sklearn.pipeline import Pipeline\n",
    "from sklearn.linear_model import LogisticRegression\n",
    "from sklearn.feature_selection import SelectKBest, chi2\n",
    "from sklearn.preprocessing import StandardScaler\n",
    "from sklearn.metrics import accuracy_score, classification_report, confusion_matrix\n",
    "from datasets import load_dataset"
   ]
  },
  {
   "cell_type": "code",
   "execution_count": 2,
   "metadata": {
    "execution": {
     "iopub.execute_input": "2025-05-21T07:47:44.412179Z",
     "iopub.status.busy": "2025-05-21T07:47:44.411829Z",
     "iopub.status.idle": "2025-05-21T07:47:44.417129Z",
     "shell.execute_reply": "2025-05-21T07:47:44.416489Z",
     "shell.execute_reply.started": "2025-05-21T07:47:44.412161Z"
    },
    "trusted": true
   },
   "outputs": [],
   "source": [
    "CATEGORY_MAPPING = {0: 'World', 1: 'Sports', 2: 'Business', 3: 'Sci/Tech'}\n",
    "\n",
    "def load_and_preprocess_data():\n",
    "    dataset_name = \"fancyzhx/ag_news\"\n",
    "    dataset = load_dataset(dataset_name)\n",
    "    \n",
    "    train_df = dataset[\"train\"].to_pandas()\n",
    "    test_df = dataset[\"test\"].to_pandas()\n",
    "    \n",
    "    train_df.dropna(subset=['text', 'label'], inplace=True)\n",
    "    test_df.dropna(subset=['text', 'label'], inplace=True)\n",
    "    \n",
    "    train_df['Category'] = train_df['label'].map(CATEGORY_MAPPING)\n",
    "    test_df['Category'] = test_df['label'].map(CATEGORY_MAPPING)\n",
    "        \n",
    "    return train_df, test_df"
   ]
  },
  {
   "cell_type": "code",
   "execution_count": 3,
   "metadata": {
    "execution": {
     "iopub.execute_input": "2025-05-21T07:47:44.418024Z",
     "iopub.status.busy": "2025-05-21T07:47:44.417777Z",
     "iopub.status.idle": "2025-05-21T07:47:44.461291Z",
     "shell.execute_reply": "2025-05-21T07:47:44.460674Z",
     "shell.execute_reply.started": "2025-05-21T07:47:44.418004Z"
    },
    "trusted": true
   },
   "outputs": [],
   "source": [
    "def build_pipeline(max_features=2000, k_best=1000):\n",
    "    pipeline = Pipeline([\n",
    "        (\"tfidf\", TfidfVectorizer(lowercase=True, stop_words='english', max_features=max_features)),\n",
    "        (\"select\", SelectKBest(score_func=chi2, k=k_best)),\n",
    "        (\"scale\", StandardScaler(with_mean=False)),\n",
    "        (\"clf\", LogisticRegression(solver='saga', multi_class='multinomial', max_iter=1000, random_state=42))\n",
    "    ])\n",
    "    return pipeline"
   ]
  },
  {
   "cell_type": "code",
   "execution_count": 4,
   "metadata": {
    "execution": {
     "iopub.execute_input": "2025-05-21T07:47:44.462153Z",
     "iopub.status.busy": "2025-05-21T07:47:44.461961Z",
     "iopub.status.idle": "2025-05-21T07:47:44.472673Z",
     "shell.execute_reply": "2025-05-21T07:47:44.471990Z",
     "shell.execute_reply.started": "2025-05-21T07:47:44.462138Z"
    },
    "trusted": true
   },
   "outputs": [],
   "source": [
    "def tune_hyperparameters(pipeline, X_train, y_train):\n",
    "    param_grid = {\n",
    "        \"clf__C\": [0.01, 0.1, 1.0, 10.0],\n",
    "        \"clf__penalty\": ['l2']\n",
    "    }\n",
    "    skf = StratifiedKFold(n_splits=5, shuffle=True, random_state=42)\n",
    "    grid_search = GridSearchCV(pipeline, param_grid, cv=skf, scoring='accuracy', n_jobs=-1)\n",
    "    grid_search.fit(X_train, y_train)\n",
    "    print(\"Best hyperparameters found:\", grid_search.best_params_)\n",
    "    return grid_search.best_estimator_"
   ]
  },
  {
   "cell_type": "code",
   "execution_count": 5,
   "metadata": {
    "execution": {
     "iopub.execute_input": "2025-05-21T07:47:44.473911Z",
     "iopub.status.busy": "2025-05-21T07:47:44.473390Z",
     "iopub.status.idle": "2025-05-21T07:47:44.483158Z",
     "shell.execute_reply": "2025-05-21T07:47:44.482654Z",
     "shell.execute_reply.started": "2025-05-21T07:47:44.473887Z"
    },
    "trusted": true
   },
   "outputs": [],
   "source": [
    "def plot_confusion_matrix(y_true, y_pred, labels):\n",
    "    cm = confusion_matrix(y_true, y_pred, labels=labels)\n",
    "    plt.figure(figsize=(8, 6))\n",
    "    sns.heatmap(cm, annot=True, fmt=\"d\", cmap=\"Blues\", xticklabels=labels, yticklabels=labels)\n",
    "    plt.ylabel(\"Actual\")\n",
    "    plt.xlabel(\"Predicted\")\n",
    "    plt.title(\"Confusion Matrix\")\n",
    "    plt.show()"
   ]
  },
  {
   "cell_type": "code",
   "execution_count": 6,
   "metadata": {
    "execution": {
     "iopub.execute_input": "2025-05-21T07:47:44.484007Z",
     "iopub.status.busy": "2025-05-21T07:47:44.483795Z",
     "iopub.status.idle": "2025-05-21T07:53:22.470288Z",
     "shell.execute_reply": "2025-05-21T07:53:22.469672Z",
     "shell.execute_reply.started": "2025-05-21T07:47:44.483985Z"
    },
    "trusted": true
   },
   "outputs": [
    {
     "data": {
      "application/vnd.jupyter.widget-view+json": {
       "model_id": "036c0733dfa74fd3b93bf8d545e1244a",
       "version_major": 2,
       "version_minor": 0
      },
      "text/plain": [
       "README.md:   0%|          | 0.00/8.07k [00:00<?, ?B/s]"
      ]
     },
     "metadata": {},
     "output_type": "display_data"
    },
    {
     "data": {
      "application/vnd.jupyter.widget-view+json": {
       "model_id": "cb8f307871e94ad88413c7b5f5f0c6ef",
       "version_major": 2,
       "version_minor": 0
      },
      "text/plain": [
       "train-00000-of-00001.parquet:   0%|          | 0.00/18.6M [00:00<?, ?B/s]"
      ]
     },
     "metadata": {},
     "output_type": "display_data"
    },
    {
     "data": {
      "application/vnd.jupyter.widget-view+json": {
       "model_id": "ffecdb489cce4e90a0fdd1b86c6f9a58",
       "version_major": 2,
       "version_minor": 0
      },
      "text/plain": [
       "test-00000-of-00001.parquet:   0%|          | 0.00/1.23M [00:00<?, ?B/s]"
      ]
     },
     "metadata": {},
     "output_type": "display_data"
    },
    {
     "data": {
      "application/vnd.jupyter.widget-view+json": {
       "model_id": "4dcef4f499bb49e983cdfaf0fcf00329",
       "version_major": 2,
       "version_minor": 0
      },
      "text/plain": [
       "Generating train split:   0%|          | 0/120000 [00:00<?, ? examples/s]"
      ]
     },
     "metadata": {},
     "output_type": "display_data"
    },
    {
     "data": {
      "application/vnd.jupyter.widget-view+json": {
       "model_id": "017ca65ca6034d84ae5db71a5a1f2637",
       "version_major": 2,
       "version_minor": 0
      },
      "text/plain": [
       "Generating test split:   0%|          | 0/7600 [00:00<?, ? examples/s]"
      ]
     },
     "metadata": {},
     "output_type": "display_data"
    },
    {
     "name": "stderr",
     "output_type": "stream",
     "text": [
      "/usr/local/lib/python3.11/dist-packages/sklearn/linear_model/_sag.py:350: ConvergenceWarning: The max_iter was reached which means the coef_ did not converge\n",
      "  warnings.warn(\n",
      "/usr/local/lib/python3.11/dist-packages/sklearn/linear_model/_sag.py:350: ConvergenceWarning: The max_iter was reached which means the coef_ did not converge\n",
      "  warnings.warn(\n",
      "/usr/local/lib/python3.11/dist-packages/sklearn/linear_model/_sag.py:350: ConvergenceWarning: The max_iter was reached which means the coef_ did not converge\n",
      "  warnings.warn(\n",
      "/usr/local/lib/python3.11/dist-packages/sklearn/linear_model/_sag.py:350: ConvergenceWarning: The max_iter was reached which means the coef_ did not converge\n",
      "  warnings.warn(\n",
      "/usr/local/lib/python3.11/dist-packages/sklearn/linear_model/_sag.py:350: ConvergenceWarning: The max_iter was reached which means the coef_ did not converge\n",
      "  warnings.warn(\n"
     ]
    },
    {
     "name": "stdout",
     "output_type": "stream",
     "text": [
      "Best hyperparameters found: {'clf__C': 0.01, 'clf__penalty': 'l2'}\n",
      "=== Test Set Performance ===\n",
      "Accuracy: 0.8801315789473684\n",
      "Classification Report:\n",
      "               precision    recall  f1-score   support\n",
      "\n",
      "    Business       0.84      0.84      0.84      1900\n",
      "    Sci/Tech       0.85      0.85      0.85      1900\n",
      "      Sports       0.93      0.95      0.94      1900\n",
      "       World       0.89      0.87      0.88      1900\n",
      "\n",
      "    accuracy                           0.88      7600\n",
      "   macro avg       0.88      0.88      0.88      7600\n",
      "weighted avg       0.88      0.88      0.88      7600\n",
      "\n",
      "=== Cross-Validation on Training Set ===\n",
      "CV Accuracy Scores: [0.87845833 0.88104167 0.885375   0.88304167 0.88070833]\n",
      "Mean CV Accuracy: 0.8817 ± 0.0023\n"
     ]
    },
    {
     "data": {
      "image/png": "[encoded data removed]",
      "text/plain": [
       "<Figure size 800x600 with 2 Axes>"
      ]
     },
     "metadata": {},
     "output_type": "display_data"
    }
   ],
   "source": [
    "train_df, test_df = load_and_preprocess_data()\n",
    "X_train = train_df['text'].tolist()\n",
    "y_train = train_df['Category'].tolist()\n",
    "X_test = test_df['text'].tolist()\n",
    "y_test = test_df['Category'].tolist()\n",
    "\n",
    "pipeline = build_pipeline()\n",
    "tuned_pipeline = tune_hyperparameters(pipeline, X_train, y_train)\n",
    "tuned_pipeline.fit(X_train, y_train)\n",
    "\n",
    "y_pred = tuned_pipeline.predict(X_test)\n",
    "print(\"=== Test Set Performance ===\")\n",
    "print(\"Accuracy:\", accuracy_score(y_test, y_pred))\n",
    "print(\"Classification Report:\\n\", classification_report(y_test, y_pred))\n",
    "\n",
    "# Cross-validation on the training set\n",
    "print(\"=== Cross-Validation on Training Set ===\")\n",
    "skf = StratifiedKFold(n_splits=5, shuffle=True, random_state=42)\n",
    "cv_scores = cross_val_score(tuned_pipeline, X_train, y_train, cv=skf, scoring='accuracy')\n",
    "print(f\"CV Accuracy Scores: {cv_scores}\")\n",
    "print(f\"Mean CV Accuracy: {np.mean(cv_scores):.4f} ± {np.std(cv_scores):.4f}\")\n",
    "\n",
    "# Performance Analysis: Plot confusion matrix\n",
    "plot_confusion_matrix(y_test, y_pred, labels=list(CATEGORY_MAPPING.values()))"
   ]
  },
  {
   "cell_type": "code",
   "execution_count": null,
   "metadata": {
    "trusted": true
   },
   "outputs": [],
   "source": []
  }
 ],
 "metadata": {
  "kaggle": {
   "accelerator": "nvidiaTeslaT4",
   "dataSources": [],
   "dockerImageVersionId": 31041,
   "isGpuEnabled": true,
   "isInternetEnabled": true,
   "language": "python",
   "sourceType": "notebook"
  },
  "kernelspec": {
   "display_name": "base",
   "language": "python",
   "name": "python3"
  },
  "language_info": {
   "codemirror_mode": {
    "name": "ipython",
    "version": 3
   },
   "file_extension": ".py",
   "mimetype": "text/x-python",
   "name": "python",
   "nbconvert_exporter": "python",
   "pygments_lexer": "ipython3",
   "version": "3.12.7"
  }
 },
 "nbformat": 4,
 "nbformat_minor": 4
}
